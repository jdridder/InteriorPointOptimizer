{
 "cells": [
  {
   "cell_type": "code",
   "execution_count": 49,
   "metadata": {},
   "outputs": [],
   "source": [
    "import casadi as cas\n",
    "import numpy as np\n",
    "import matplotlib.pyplot as plt\n",
    "import scienceplots"
   ]
  },
  {
   "cell_type": "markdown",
   "metadata": {},
   "source": [
    "# Easy Interoir Point Optimizer"
   ]
  },
  {
   "cell_type": "markdown",
   "metadata": {},
   "source": [
    "Here we want to program a short and easy-to-understand \"Interior Point Optimizer\" for non-linear optimization problems.\n",
    "Consider the following non-linear optimization problem with equality constraints $\\bm{h}(\\bm{x}) = 0$ and inequality constraints $\\bm{g}(\\bm{x}) \\leq 0$."
   ]
  },
  {
   "cell_type": "markdown",
   "metadata": {},
   "source": [
    "$\n",
    "\\begin{equation}\n",
    "    \\begin{aligned}\n",
    "        \\textrm{min} \\quad &f(\\bm{x}) = x_0^4 + x_1^4 \\\\\n",
    "        \\textrm{s. t.} \\quad &\\bm{h}(\\bm{x}) = 2x_0-x_1 = 0 \\\\\n",
    "        &\\bm{g}(\\bm{x}) \\leq 0\n",
    "    \\end{aligned}\n",
    "\\end{equation}\n",
    "$"
   ]
  },
  {
   "cell_type": "code",
   "execution_count": 50,
   "metadata": {},
   "outputs": [],
   "source": [
    "# define programm\n",
    "x = cas.SX.sym(\"x\", 2)  # symbolic variable x\n",
    "# objective function\n",
    "f = x[0]**4 + x[1]**4\n",
    "f_func = cas.Function(\n",
    "    \"f_function\",\n",
    "    [x],\n",
    "    [f]\n",
    ")\n",
    "# equality constraints\n",
    "h = 2*x[0] - x[1]\n",
    "h_func = cas.Function(\n",
    "    \"eq_constraints\",\n",
    "    [x],\n",
    "    [h]\n",
    ")"
   ]
  },
  {
   "cell_type": "markdown",
   "metadata": {},
   "source": [
    "### Derive KKT-Matrix"
   ]
  },
  {
   "cell_type": "code",
   "execution_count": 51,
   "metadata": {},
   "outputs": [],
   "source": [
    "# calculate derivatives\n",
    "d2f = cas.hessian(f, x)\n",
    "d2f_func = cas.Function(\n",
    "    \"function_hessian\",\n",
    "    [x],\n",
    "    [d2f[0]]\n",
    ")\n",
    "d2h = cas.hessian(h, x)\n",
    "d2h_func = cas.Function(\n",
    "    \"equality_constraints_hessian\",\n",
    "    [x],\n",
    "    [d2h[0]]\n",
    ")\n",
    "dh = cas.jacobian(h, x)\n",
    "dh_func = cas.Function(\n",
    "    \"equality_constraints_jacobian\",\n",
    "    [x],\n",
    "    [dh]\n",
    ")\n",
    "df = cas.jacobian(f, x)\n",
    "df_func = cas.Function(\n",
    "    \"function_jacobian\",\n",
    "    [x],\n",
    "    [df]\n",
    ")"
   ]
  },
  {
   "cell_type": "code",
   "execution_count": 54,
   "metadata": {},
   "outputs": [
    {
     "name": "stdout",
     "output_type": "stream",
     "text": [
      "Optimization finished with 45 iterations.\n",
      "Optimal solution found at [5.95474745e-07 1.19094949e-06]\n"
     ]
    }
   ],
   "source": [
    "x_N = np.array([[50, 100]])\n",
    "nu_N = np.array([[1]]) #  how to choose the first nu ??\n",
    "tol = 1e-6  # optimization tolerance to break the loop\n",
    "max_iter = 1000  # maximum iterations\n",
    "n_iter = 0\n",
    "\n",
    "for k in range(max_iter):\n",
    "    x_current = x_N[k]\n",
    "    # evaluate function derivatives\n",
    "    d2f_eval = d2f_func(x_current); df_eval = df_func(x_current)\n",
    "    # evaluate derivatives of constraints\n",
    "    d2h_eval = d2h_func(x_current); dh_eval = dh_func(x_current)\n",
    "\n",
    "    # create KKT-Matrix\n",
    "    KKT = cas.horzcat(d2f_eval + d2h_eval.T * nu_N[k], dh_eval.T)  # first row of matrix\n",
    "\n",
    "    zeros = np.array([0])\n",
    "    sec_row = cas.horzcat(dh_eval, zeros)  # second row of matrix\n",
    "    KKT = cas.vertcat(KKT, sec_row)\n",
    "\n",
    "    # create vector b\n",
    "    b = - cas.vertcat(df_eval.T, h_func(x_current))\n",
    "\n",
    "    # solve linear system of equations with numpy because we really like numpy\n",
    "    step = np.linalg.solve(\n",
    "        a=KKT.full(),\n",
    "        b=b.full()\n",
    "    )\n",
    "    x_next = x_current + step[:x.shape[0]].T\n",
    "    nu_next = step[x.shape[0]:].T\n",
    "    x_N = np.concatenate([x_N, x_next])\n",
    "    nu_N = np.concatenate([nu_N, nu_next])\n",
    "    n_iter += 1\n",
    "    if np.abs(np.linalg.norm(x_N[k]) - np.linalg.norm(x_N[k-1])) <= tol:\n",
    "        break\n",
    "\n",
    "print(\"Optimization finished with\", n_iter, \"iterations.\")\n",
    "print(\"Optimal solution found at\", x_N[-1])"
   ]
  },
  {
   "cell_type": "markdown",
   "metadata": {},
   "source": [
    "### Plot the results"
   ]
  },
  {
   "cell_type": "code",
   "execution_count": 57,
   "metadata": {},
   "outputs": [
    {
     "data": {
      "image/png": "[encoded data removed]",
      "text/plain": [
       "<Figure size 350x262.5 with 1 Axes>"
      ]
     },
     "metadata": {},
     "output_type": "display_data"
    }
   ],
   "source": [
    "plt.rcParams[\"figure.figsize\"] = (10,6)\n",
    "plt.style.use('science')\n",
    "fig, ax = plt.subplots(1)\n",
    "fig.suptitle(\"Optimization trajectory\")\n",
    "\n",
    "ax.plot(x_N.T[0], x_N.T[1], \"x\")\n",
    "ax.set_xlabel(\"$x_0$\")\n",
    "ax.set_ylabel(\"$x_1$\")\n",
    "ax.axis([-20,20,-20,20])\n",
    "\n",
    "# color grid\n",
    "x_grid = y_grid = np.arange(-20, 20, 0.5)\n",
    "grid = np.meshgrid(x_grid, y_grid)"
   ]
  },
  {
   "cell_type": "code",
   "execution_count": null,
   "metadata": {},
   "outputs": [],
   "source": []
  }
 ],
 "metadata": {
  "kernelspec": {
   "display_name": "apc",
   "language": "python",
   "name": "python3"
  },
  "language_info": {
   "codemirror_mode": {
    "name": "ipython",
    "version": 3
   },
   "file_extension": ".py",
   "mimetype": "text/x-python",
   "name": "python",
   "nbconvert_exporter": "python",
   "pygments_lexer": "ipython3",
   "version": "3.11.5"
  }
 },
 "nbformat": 4,
 "nbformat_minor": 2
}
