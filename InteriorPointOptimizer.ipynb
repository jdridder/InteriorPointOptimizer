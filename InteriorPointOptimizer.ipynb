{
 "cells": [
  {
   "cell_type": "code",
   "execution_count": 1,
   "metadata": {},
   "outputs": [],
   "source": [
    "import casadi as cas\n",
    "import numpy as np\n",
    "import matplotlib.pyplot as plt\n",
    "import scienceplots"
   ]
  },
  {
   "cell_type": "markdown",
   "metadata": {},
   "source": [
    "# Easy Interoir Point Optimizer"
   ]
  },
  {
   "cell_type": "markdown",
   "metadata": {},
   "source": [
    "Here we want to program a short and easy-to-understand \"Interior Point Optimizer\" for non-linear optimization problems.\n",
    "Consider the following non-linear optimization problem with equality constraints $\\bm{h}(\\bm{x}) = 0$ and inequality constraints $\\bm{g}(\\bm{x}) \\leq 0$."
   ]
  },
  {
   "cell_type": "markdown",
   "metadata": {},
   "source": [
    "$\n",
    "\\begin{equation}\n",
    "    \\begin{aligned}\n",
    "        \\textrm{min} \\quad &f(\\bm{x}) = x_0^4 + x_1^4 \\\\\n",
    "        \\textrm{s. t.} \\quad &\\bm{h}(\\bm{x}) = 2x_0-x_1 = 0 \\\\\n",
    "        &\\bm{g}(\\bm{x}) = 2 - x_1 \\leq 0\n",
    "    \\end{aligned}\n",
    "\\end{equation}\n",
    "$"
   ]
  },
  {
   "cell_type": "code",
   "execution_count": 138,
   "metadata": {},
   "outputs": [],
   "source": [
    "# define programm\n",
    "x = cas.SX.sym(\"x\", 2)  # symbolic variable x\n",
    "# objective function\n",
    "f = x[0]**4 + x[1]**4\n",
    "f_func = cas.Function(\n",
    "    \"f_function\",\n",
    "    [x],\n",
    "    [f]\n",
    ")\n",
    "# equality constraints\n",
    "h = 2*x[0] - x[1]\n",
    "h_func = cas.Function(\n",
    "    \"eq_constraints\",\n",
    "    [x],\n",
    "    [h]\n",
    ")\n",
    "g = -x[0]+2\n",
    "g_func = cas.Function(\n",
    "    \"ineq_constraints\",\n",
    "    [x],\n",
    "    [g]\n",
    ")\n"
   ]
  },
  {
   "cell_type": "markdown",
   "metadata": {},
   "source": [
    "### Derive KKT-Matrix"
   ]
  },
  {
   "cell_type": "code",
   "execution_count": 139,
   "metadata": {},
   "outputs": [],
   "source": [
    "# calculate derivatives\n",
    "# objective function\n",
    "d2f = cas.hessian(f, x)\n",
    "d2f_func = cas.Function(\n",
    "    \"function_hessian\",\n",
    "    [x],\n",
    "    [d2f[0]]\n",
    ")\n",
    "\n",
    "# equality constraints\n",
    "d2h = cas.hessian(h, x)\n",
    "d2h_func = cas.Function(\n",
    "    \"equality_constraints_hessian\",\n",
    "    [x],\n",
    "    [d2h[0]]\n",
    ")\n",
    "dh = cas.jacobian(h, x)\n",
    "dh_func = cas.Function(\n",
    "    \"equality_constraints_jacobian\",\n",
    "    [x],\n",
    "    [dh]\n",
    ")\n",
    "df = cas.jacobian(f, x)\n",
    "df_func = cas.Function(\n",
    "    \"function_jacobian\",\n",
    "    [x],\n",
    "    [df]\n",
    ")\n",
    "\n",
    "# inequality constraints\n",
    "dg = cas.jacobian(g, x)\n",
    "dg_func = cas.Function(\n",
    "    \"inequality_constraints_jacobian\",\n",
    "    [x],\n",
    "    [dg]\n",
    ")\n",
    "d2g = cas.hessian(g, x)\n",
    "d2g_func = cas.Function(\n",
    "    \"inequality_constraints_hessian\",\n",
    "    [x],\n",
    "    [d2g[0]]\n",
    ")"
   ]
  },
  {
   "cell_type": "code",
   "execution_count": 140,
   "metadata": {},
   "outputs": [
    {
     "name": "stdout",
     "output_type": "stream",
     "text": [
      "Optimization finished with 31 iterations.\n",
      "Optimal solution found at [1.88591031 3.77182061]\n",
      "Optimization finished with 1000 iterations.\n",
      "Optimal solution found at [-0.08690984 -0.17381967]\n",
      "Optimization finished with 1000 iterations.\n",
      "Optimal solution found at [-0.04355951 -0.08711902]\n",
      "Optimization finished with 1000 iterations.\n",
      "Optimal solution found at [-0.03763637 -0.07527274]\n",
      "Optimization finished with 1000 iterations.\n",
      "Optimal solution found at [-0.02961353 -0.05922707]\n",
      "Optimization finished with 1000 iterations.\n",
      "Optimal solution found at [0.01998965 0.0399793 ]\n",
      "Optimization finished with 1000 iterations.\n",
      "Optimal solution found at [-0.34229697 -0.68459394]\n",
      "Optimization finished with 58 iterations.\n",
      "Optimal solution found at [-0.05547979 -0.11095959]\n",
      "Optimization finished with 36 iterations.\n",
      "Optimal solution found at [-0.04413458 -0.08826917]\n",
      "Optimization finished with 90 iterations.\n",
      "Optimal solution found at [-0.02590662 -0.05181325]\n",
      "Optimization finished with 1000 iterations.\n",
      "Optimal solution found at [0.01501064 0.03002127]\n",
      "Optimization finished with 1000 iterations.\n",
      "Optimal solution found at [-0.00122359 -0.00244718]\n",
      "Optimization finished with 942 iterations.\n",
      "Optimal solution found at [0.00080319 0.00160637]\n"
     ]
    }
   ],
   "source": [
    "Gamma = np.array([0.01, 0.05, 0.1, 0.2, 0.5, 1, 10, 50, 100, 500, 1000, 1e6, 1e9])\n",
    "tol = 1e-5  # optimization tolerance to break the loop\n",
    "max_iter = 1000  # maximum iterations\n",
    "\n",
    "for gamma in Gamma:\n",
    "    x_N = np.array([[50, 100]])\n",
    "    nu_N = np.array([[1]])  #  how to choose the first nu ??\n",
    "    lambda_N = np.array([[1]])  #  how to choose the first lambda ??\n",
    "    n_iter = 0\n",
    "\n",
    "    for k in range(max_iter):\n",
    "        x_current = x_N[k]\n",
    "        # evaluate function derivatives\n",
    "        d2f_eval = d2f_func(x_current)\n",
    "        df_eval = df_func(x_current)\n",
    "        # evaluate derivatives of constraints\n",
    "        d2h_eval = d2h_func(x_current)\n",
    "        dh_eval = dh_func(x_current)\n",
    "        # evaluate derivatives of inequaility constraints\n",
    "        d2g_eval = d2g_func(x_current)\n",
    "        dg_eval = dg_func(x_current)\n",
    "\n",
    "        # create KKT-Matrix\n",
    "        KKT = cas.horzcat(\n",
    "            d2f_eval + d2h_eval.T * nu_N[k] + d2g_eval.T * lambda_N[k].T,\n",
    "            dh_eval.T,\n",
    "            dg_eval.T,\n",
    "        )  # first row of matrix\n",
    "\n",
    "        sec_row = cas.horzcat(dh_eval, 0, 0)  # second row of matrix\n",
    "        third_row = cas.horzcat(-lambda_N[k] * dg_eval, 0, -g_func(x_current))\n",
    "        KKT = cas.vertcat(KKT, sec_row, third_row)\n",
    "\n",
    "        # create vector b\n",
    "        b = -cas.vertcat(\n",
    "            df_eval.T + nu_N[k] * dh_eval.T + lambda_N[k] * dg_eval.T,\n",
    "            h_func(x_current),\n",
    "            -lambda_N[k] * g_func(x_current) - 1 / gamma,\n",
    "        )\n",
    "\n",
    "        # solve linear system of equations with numpy because we really like numpy\n",
    "        step = np.linalg.solve(a=KKT.full(), b=b.full())\n",
    "\n",
    "        x_next = x_current + step[: x.shape[0]].T\n",
    "        nu_next = step[x.shape[0] : x.shape[0] + nu_N.shape[1]].T\n",
    "        lambda_next = step[-1:]\n",
    "        x_N = np.concatenate([x_N, x_next])\n",
    "        nu_N = np.concatenate([nu_N, nu_next])\n",
    "        lambda_N = np.concatenate([lambda_N, lambda_next])\n",
    "        n_iter += 1\n",
    "        if np.abs(np.linalg.norm(x_N[k]) - np.linalg.norm(x_N[k - 1])) <= tol:\n",
    "            break\n",
    "\n",
    "    print(\"Optimization finished with\", n_iter, \"iterations.\")\n",
    "    print(\"Optimal solution found at\", x_N[-1])"
   ]
  },
  {
   "cell_type": "markdown",
   "metadata": {},
   "source": [
    "### Plot the results"
   ]
  },
  {
   "cell_type": "code",
   "execution_count": 142,
   "metadata": {},
   "outputs": [
    {
     "data": {
      "image/png": "[encoded data removed]",
      "text/plain": [
       "<Figure size 350x262.5 with 1 Axes>"
      ]
     },
     "metadata": {},
     "output_type": "display_data"
    }
   ],
   "source": [
    "plt.rcParams[\"figure.figsize\"] = (10,6)\n",
    "plt.style.use('science')\n",
    "fig, ax = plt.subplots(1)\n",
    "fig.suptitle(\"Optimization trajectory\")\n",
    "\n",
    "ax.plot(x_N.T[0], x_N.T[1], \"x\")\n",
    "ax.set_xlabel(\"$x_0$\")\n",
    "ax.set_ylabel(\"$x_1$\")\n",
    "ax.axis([-20,20,-20,20])\n",
    "\n",
    "# color grid\n",
    "x_grid = y_grid = np.arange(-20, 20, 0.5)\n",
    "grid = np.meshgrid(x_grid, y_grid)"
   ]
  },
  {
   "cell_type": "code",
   "execution_count": null,
   "metadata": {},
   "outputs": [],
   "source": []
  }
 ],
 "metadata": {
  "kernelspec": {
   "display_name": "apc",
   "language": "python",
   "name": "python3"
  },
  "language_info": {
   "codemirror_mode": {
    "name": "ipython",
    "version": 3
   },
   "file_extension": ".py",
   "mimetype": "text/x-python",
   "name": "python",
   "nbconvert_exporter": "python",
   "pygments_lexer": "ipython3",
   "version": "3.11.5"
  }
 },
 "nbformat": 4,
 "nbformat_minor": 2
}
